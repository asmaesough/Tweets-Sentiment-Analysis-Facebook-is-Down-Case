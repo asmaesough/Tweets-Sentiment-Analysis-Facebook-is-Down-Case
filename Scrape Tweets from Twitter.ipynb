{
 "cells": [
  {
   "cell_type": "code",
   "execution_count": 1,
   "metadata": {},
   "outputs": [
    {
     "name": "stdout",
     "output_type": "stream",
     "text": [
      "Collecting git+https://github.com/JustAnotherArchivist/snscrape.git\n",
      "  Cloning https://github.com/JustAnotherArchivist/snscrape.git to c:\\users\\user\\appdata\\local\\temp\\pip-req-build-kb0_vavm\n",
      "Requirement already satisfied: requests[socks] in c:\\users\\user\\anaconda\\lib\\site-packages (from snscrape==0.3.5.dev138+ga6b6f3f) (2.25.1)\n",
      "Requirement already satisfied: lxml in c:\\users\\user\\anaconda\\lib\\site-packages (from snscrape==0.3.5.dev138+ga6b6f3f) (4.6.3)\n",
      "Requirement already satisfied: beautifulsoup4 in c:\\users\\user\\anaconda\\lib\\site-packages (from snscrape==0.3.5.dev138+ga6b6f3f) (4.9.3)\n",
      "Requirement already satisfied: pytz in c:\\users\\user\\anaconda\\lib\\site-packages (from snscrape==0.3.5.dev138+ga6b6f3f) (2021.1)\n",
      "Requirement already satisfied: soupsieve>1.2 in c:\\users\\user\\anaconda\\lib\\site-packages (from beautifulsoup4->snscrape==0.3.5.dev138+ga6b6f3f) (2.2.1)\n",
      "Requirement already satisfied: chardet<5,>=3.0.2 in c:\\users\\user\\anaconda\\lib\\site-packages (from requests[socks]->snscrape==0.3.5.dev138+ga6b6f3f) (4.0.0)\n",
      "Requirement already satisfied: certifi>=2017.4.17 in c:\\users\\user\\anaconda\\lib\\site-packages (from requests[socks]->snscrape==0.3.5.dev138+ga6b6f3f) (2020.12.5)\n",
      "Requirement already satisfied: urllib3<1.27,>=1.21.1 in c:\\users\\user\\anaconda\\lib\\site-packages (from requests[socks]->snscrape==0.3.5.dev138+ga6b6f3f) (1.26.4)\n",
      "Requirement already satisfied: idna<3,>=2.5 in c:\\users\\user\\anaconda\\lib\\site-packages (from requests[socks]->snscrape==0.3.5.dev138+ga6b6f3f) (2.10)\n",
      "Requirement already satisfied: PySocks!=1.5.7,>=1.5.6 in c:\\users\\user\\anaconda\\lib\\site-packages (from requests[socks]->snscrape==0.3.5.dev138+ga6b6f3f) (1.7.1)\n",
      "Building wheels for collected packages: snscrape\n",
      "  Building wheel for snscrape (setup.py): started\n",
      "  Building wheel for snscrape (setup.py): finished with status 'done'\n",
      "  Created wheel for snscrape: filename=snscrape-0.3.5.dev138+ga6b6f3f-py3-none-any.whl size=52210 sha256=25c19d83e9589a6e04c3903189cf8058d1e82d52e1578ff10f62860f8bf5beaf\n",
      "  Stored in directory: C:\\Users\\user\\AppData\\Local\\Temp\\pip-ephem-wheel-cache-f3993ac8\\wheels\\92\\42\\87\\33fa9b18f7a75d02643a9ca3743339aec9be28c6796267c7d8\n",
      "Successfully built snscrape\n",
      "Installing collected packages: snscrape\n",
      "Successfully installed snscrape-0.3.5.dev138+ga6b6f3f\n",
      "Note: you may need to restart the kernel to use updated packages.\n"
     ]
    },
    {
     "name": "stderr",
     "output_type": "stream",
     "text": [
      "  Running command git clone -q https://github.com/JustAnotherArchivist/snscrape.git 'C:\\Users\\user\\AppData\\Local\\Temp\\pip-req-build-kb0_vavm'\n"
     ]
    }
   ],
   "source": [
    "pip install git+https://github.com/JustAnotherArchivist/snscrape.git"
   ]
  },
  {
   "cell_type": "code",
   "execution_count": 11,
   "metadata": {},
   "outputs": [],
   "source": [
    "import snscrape.modules.twitter as sntwitter\n",
    "import pandas as pd"
   ]
  },
  {
   "cell_type": "code",
   "execution_count": 12,
   "metadata": {},
   "outputs": [],
   "source": [
    "\n",
    "# Setting variables to be used below\n",
    "maxTweets = 10000\n",
    "\n",
    "# Creating list to append tweet data to\n",
    "tweets_list1 = []\n",
    "\n",
    "# Using TwitterSearchScraper to scrape data and append tweets to list\n",
    "for i,tweet in enumerate(sntwitter.TwitterSearchScraper('Facebook is down since:2021-10-04 until:2021-10-05').get_items()):\n",
    "    if i>maxTweets:\n",
    "        break\n",
    "    tweets_list1.append([tweet.date, tweet.id, tweet.content, tweet.user.username])"
   ]
  },
  {
   "cell_type": "code",
   "execution_count": 13,
   "metadata": {},
   "outputs": [
    {
     "data": {
      "text/html": [
       "<div>\n",
       "<style scoped>\n",
       "    .dataframe tbody tr th:only-of-type {\n",
       "        vertical-align: middle;\n",
       "    }\n",
       "\n",
       "    .dataframe tbody tr th {\n",
       "        vertical-align: top;\n",
       "    }\n",
       "\n",
       "    .dataframe thead th {\n",
       "        text-align: right;\n",
       "    }\n",
       "</style>\n",
       "<table border=\"1\" class=\"dataframe\">\n",
       "  <thead>\n",
       "    <tr style=\"text-align: right;\">\n",
       "      <th></th>\n",
       "      <th>Datetime</th>\n",
       "      <th>Tweet Id</th>\n",
       "      <th>Text</th>\n",
       "      <th>Username</th>\n",
       "    </tr>\n",
       "  </thead>\n",
       "  <tbody>\n",
       "    <tr>\n",
       "      <th>0</th>\n",
       "      <td>2021-10-04 23:59:56+00:00</td>\n",
       "      <td>1445176896619171842</td>\n",
       "      <td>While Facebook was down, Amazon was pushing it...</td>\n",
       "      <td>veranmiller</td>\n",
       "    </tr>\n",
       "    <tr>\n",
       "      <th>1</th>\n",
       "      <td>2021-10-04 23:59:56+00:00</td>\n",
       "      <td>1445176893313937415</td>\n",
       "      <td>Facebook, Instagram, WhatsApp, and Stayc girls...</td>\n",
       "      <td>imveryfragilebb</td>\n",
       "    </tr>\n",
       "    <tr>\n",
       "      <th>2</th>\n",
       "      <td>2021-10-04 23:59:54+00:00</td>\n",
       "      <td>1445176885252694017</td>\n",
       "      <td>the fact that Twitter, IG, and Facebook all we...</td>\n",
       "      <td>joanna_jojo421</td>\n",
       "    </tr>\n",
       "    <tr>\n",
       "      <th>3</th>\n",
       "      <td>2021-10-04 23:59:47+00:00</td>\n",
       "      <td>1445176855598825475</td>\n",
       "      <td>Facebook search is down. @Facebook fix it.</td>\n",
       "      <td>MissLizLizLiz</td>\n",
       "    </tr>\n",
       "    <tr>\n",
       "      <th>4</th>\n",
       "      <td>2021-10-04 23:59:42+00:00</td>\n",
       "      <td>1445176837269774339</td>\n",
       "      <td>@PhilMackey Let me translate, Phil.  Facebook ...</td>\n",
       "      <td>bloomtownrat</td>\n",
       "    </tr>\n",
       "  </tbody>\n",
       "</table>\n",
       "</div>"
      ],
      "text/plain": [
       "                   Datetime             Tweet Id  \\\n",
       "0 2021-10-04 23:59:56+00:00  1445176896619171842   \n",
       "1 2021-10-04 23:59:56+00:00  1445176893313937415   \n",
       "2 2021-10-04 23:59:54+00:00  1445176885252694017   \n",
       "3 2021-10-04 23:59:47+00:00  1445176855598825475   \n",
       "4 2021-10-04 23:59:42+00:00  1445176837269774339   \n",
       "\n",
       "                                                Text         Username  \n",
       "0  While Facebook was down, Amazon was pushing it...      veranmiller  \n",
       "1  Facebook, Instagram, WhatsApp, and Stayc girls...  imveryfragilebb  \n",
       "2  the fact that Twitter, IG, and Facebook all we...   joanna_jojo421  \n",
       "3         Facebook search is down. @Facebook fix it.    MissLizLizLiz  \n",
       "4  @PhilMackey Let me translate, Phil.  Facebook ...     bloomtownrat  "
      ]
     },
     "execution_count": 13,
     "metadata": {},
     "output_type": "execute_result"
    }
   ],
   "source": [
    "# Creating a dataframe from the tweets list above\n",
    "tweets_df1 = pd.DataFrame(tweets_list1, columns=['Datetime', 'Tweet Id', 'Text', 'Username'])\n",
    "\n",
    "# Display first 5 entries from dataframe\n",
    "tweets_df1.head()"
   ]
  },
  {
   "cell_type": "code",
   "execution_count": 14,
   "metadata": {},
   "outputs": [],
   "source": [
    "tweets_df1.to_csv(r'Desktop\\TweetsFB.csv')"
   ]
  }
 ],
 "metadata": {
  "kernelspec": {
   "display_name": "Python 3",
   "language": "python",
   "name": "python3"
  },
  "language_info": {
   "codemirror_mode": {
    "name": "ipython",
    "version": 3
   },
   "file_extension": ".py",
   "mimetype": "text/x-python",
   "name": "python",
   "nbconvert_exporter": "python",
   "pygments_lexer": "ipython3",
   "version": "3.8.8"
  }
 },
 "nbformat": 4,
 "nbformat_minor": 2
}
